{
  "nbformat": 4,
  "nbformat_minor": 0,
  "metadata": {
    "colab": {
      "provenance": [],
      "include_colab_link": true
    },
    "kernelspec": {
      "name": "python3",
      "display_name": "Python 3"
    },
    "language_info": {
      "name": "python"
    }
  },
  "cells": [
    {
      "cell_type": "markdown",
      "metadata": {
        "id": "view-in-github",
        "colab_type": "text"
      },
      "source": [
        "<a href=\"https://colab.research.google.com/github/aaril011/Praktikum-PAAII/blob/main/UAS_F55122011.ipynb\" target=\"_parent\"><img src=\"https://colab.research.google.com/assets/colab-badge.svg\" alt=\"Open In Colab\"/></a>"
      ]
    },
    {
      "cell_type": "code",
      "execution_count": 4,
      "metadata": {
        "id": "0IN2qqMWjQWH"
      },
      "outputs": [],
      "source": [
        "# SOAL UAS PRAKTIKUM PAA KELAS A\n",
        "# Silahkan lengkapi code program yang hilang\n",
        "# Rules: Tidak boleh buka Google, GPT, Modul, Tanya Teman."
      ]
    },
    {
      "cell_type": "code",
      "source": [
        "print(\"UAS-F55122011\")\n",
        "import time\n",
        "from sklearn.naive_bayes import MultinomialNB\n",
        "from sklearn.feature_extraction.text import CountVectorizer\n",
        "\n",
        "# Modul 2: Bubble Sort\n",
        "def bubbleSort(arr):\n",
        "    n = len(arr)\n",
        "    for i in range(n):\n",
        "        for j in range(0, n - i - 1):\n",
        "            if arr[j] > arr[j + 1]:\n",
        "                arr[j], arr[j + 1] = arr[j + 1], arr[j] #lengkapi Code program yang hilang\n",
        "# arr = []\n",
        "\n",
        "# Modul 3: Naive Bayes\n",
        "newsSet= [ #lengkapi code program yang hlang\n",
        "    {'text': 'Pemerintah akan meningkatkan kualitas pendidikan di Indonesia', 'category': 'education'},\n",
        "    {'text': 'Perusahaan X meluncurkan produk baru untuk pasar lokal', 'category': 'business'},\n",
        "    {'text': 'Bola basket menjadi olahraga favorit di kalangan remaja', 'category': 'sports'},\n",
        "    {'text': 'Teknologi terbaru akan membantu meningkatkan produktivitas kerja', 'category': 'technology'}\n",
        "]\n",
        "\n",
        "# Modul 4: Boyer Moore\n",
        "def get_BMBC(pattern):\n",
        "    BMBC = dict()\n",
        "    for i in range(len(pattern)):\n",
        "        char = pattern[i] #lengkapi code program yang hilang\n",
        "        BMBC[char] = i + 1\n",
        "    return BMBC\n",
        "\n",
        "def get_BMGS(pattern):\n",
        "    BMGS = dict()\n",
        "    BMGS[''] = 0\n",
        "    for i in range(len(pattern)):\n",
        "        GS = pattern[len(pattern) - i - 1:]\n",
        "        for j in range(len(pattern) - i - 1):\n",
        "            NGS = pattern[j:j + i + 1]\n",
        "            if GS == NGS:\n",
        "                BMGS[GS] = len(pattern) - j - i - 1\n",
        "    return BMGS\n",
        "\n",
        "def BM(string, pattern, BMBC, BMGS):\n",
        "    i = 0\n",
        "    j = len(pattern)\n",
        "    while i < len(string):\n",
        "        while j > 0:\n",
        "            a = string[i + j - 1:i + len(pattern)]\n",
        "            b = pattern[j - 1:]\n",
        "            if a == b:\n",
        "                j -= 1\n",
        "            else:\n",
        "                i += max(BMGS.setdefault(b[1:], len(pattern)), j - BMBC.setdefault(string[i + j - 1], 0))\n",
        "                j = len(pattern) #lengkapi code program yang hilang\n",
        "            if j == 0:\n",
        "                return i\n",
        "    return None\n",
        "\n"
      ],
      "metadata": {
        "id": "-PD6ZwmYn_pb",
        "colab": {
          "base_uri": "https://localhost:8080/"
        },
        "outputId": "f0947ad5-764a-4688-8d15-714bdd5feb1c"
      },
      "execution_count": 5,
      "outputs": [
        {
          "output_type": "stream",
          "name": "stdout",
          "text": [
            "UAS-F55122011\n"
          ]
        }
      ]
    },
    {
      "cell_type": "code",
      "source": [
        "print(\"UAS-NIM\")\n",
        "# Main program\n",
        "if __name__ == '__main__':\n",
        "    # Bubble Sort\n",
        "    l = int(input(\"Masukkan Panjang NIM Anda: \"))\n",
        "    arr = []\n",
        "    print(\"Masukkan NIM Anda:\")\n",
        "    for i in range(l):\n",
        "        k = int(input())\n",
        "        arr.append(k)\n",
        "    print(\"Sorted array is:\", end=\" \")\n",
        "    start_time = time.time()\n",
        "    bubbleSort(arr) #lengkapi code program yang hilang\n",
        "    end_time = time.time()\n",
        "    for num in arr:\n",
        "        print(num, end=\" \")\n",
        "    print(\"\\nDurasi penyortiran (detik):\", end_time - start_time)\n",
        "\n",
        "    # Naive Bayes\n",
        "    texts = [news['text'] for news in newsSet]\n",
        "    labels = [news['category'] for news in newsSet]\n",
        "    vectorizer = CountVectorizer() #lengkapi code program yang hilang\n",
        "    X = vectorizer.fit_transform(texts)\n",
        "    model = MultinomialNB()\n",
        "    model.fit(X, labels)\n",
        "    unknownInstance = input(\"\\nMasukkan teks untuk diklasifikasikan (contoh: 'Pemerintah akan meningkatkan kualitas pendidikan di Indonesia'): \")\n",
        "    unknownInstanceVec = vectorizer.transform([unknownInstance])\n",
        "    classification = model.predict(unknownInstanceVec)\n",
        "    print(\"Prediksi kategori Naive Bayes:\", classification[0])\n",
        "\n",
        "    # Boyer Moore\n",
        "    string = input(\"\\nMasukkan nama lengkap Anda (tanpa spasi): \")\n",
        "    pattern = input(\"Masukkan nama panggilan Anda sebagai pattern: \")\n",
        "    BMBC = get_BMBC(pattern=pattern)\n",
        "    BMGS = get_BMGS(pattern=pattern) #lengkapi code program yang hilang\n",
        "    index = BM(string=string, pattern=pattern, BMBC=BMBC, BMGS=BMGS)\n",
        "    if index is not None:\n",
        "        print(\"Pattern ditemukan pada indeks:\", index)\n",
        "        print(\"Substring setelah pattern:\", string[index:])\n",
        "    else:\n",
        "        print(\"Pattern tidak ditemukan dalam string.\")"
      ],
      "metadata": {
        "colab": {
          "base_uri": "https://localhost:8080/"
        },
        "id": "qf-D7M8YoEkS",
        "outputId": "c446cedc-80f5-4692-93cd-25774a9ae5fa"
      },
      "execution_count": 6,
      "outputs": [
        {
          "output_type": "stream",
          "name": "stdout",
          "text": [
            "UAS-NIM\n",
            "Masukkan Panjang NIM Anda: 9\n",
            "Masukkan NIM Anda:\n",
            "6\n",
            "5\n",
            "5\n",
            "1\n",
            "2\n",
            "2\n",
            "0\n",
            "1\n",
            "1\n",
            "Sorted array is: 0 1 1 1 2 2 5 5 6 \n",
            "Durasi penyortiran (detik): 2.1696090698242188e-05\n",
            "\n",
            "Masukkan teks untuk diklasifikasikan (contoh: 'Pemerintah akan meningkatkan kualitas pendidikan di Indonesia'): basket\n",
            "Prediksi kategori Naive Bayes: sports\n",
            "\n",
            "Masukkan nama lengkap Anda (tanpa spasi): arils\n",
            "Masukkan nama panggilan Anda sebagai pattern: aril\n",
            "Pattern ditemukan pada indeks: 0\n",
            "Substring setelah pattern: arils\n"
          ]
        }
      ]
    }
  ]
}